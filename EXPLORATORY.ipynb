{
 "cells": [
  {
   "cell_type": "markdown",
   "metadata": {},
   "source": [
    "FLIGHT DELAY ANALYSIS- Predict whether or not a flight will be cancelled"
   ]
  },
  {
   "cell_type": "code",
   "execution_count": 30,
   "metadata": {},
   "outputs": [],
   "source": [
    "# Imports\n",
    "\n",
    "# local settings and specifications\n",
    "import settings\n",
    "import os\n",
    "# pandas\n",
    "import pandas as pd\n",
    "\n",
    "# visual aids\n",
    "import numpy as np\n",
    "import matplotlib.pyplot as plt\n",
    "import seaborn as sns\n",
    "sns.set_style('whitegrid')\n",
    "%matplotlib inline\n",
    "\n",
    "# machine learning\n",
    "from sklearn.model_selection import train_test_split\n",
    "from sklearn import preprocessing\n",
    "from sklearn.linear_model import LogisticRegression\n",
    "from sklearn.ensemble import RandomForestClassifier\n",
    "from sklearn.cluster import KMeans\n",
    "import matplotlib.pyplot as plt\n",
    "from mpl_toolkits.mplot3d import Axes3D"
   ]
  },
  {
   "cell_type": "markdown",
   "metadata": {},
   "source": [
    "## Load and preview flight data "
   ]
  },
  {
   "cell_type": "code",
   "execution_count": 31,
   "metadata": {},
   "outputs": [
    {
     "data": {
      "text/html": [
       "<div>\n",
       "<style scoped>\n",
       "    .dataframe tbody tr th:only-of-type {\n",
       "        vertical-align: middle;\n",
       "    }\n",
       "\n",
       "    .dataframe tbody tr th {\n",
       "        vertical-align: top;\n",
       "    }\n",
       "\n",
       "    .dataframe thead th {\n",
       "        text-align: right;\n",
       "    }\n",
       "</style>\n",
       "<table border=\"1\" class=\"dataframe\">\n",
       "  <thead>\n",
       "    <tr style=\"text-align: right;\">\n",
       "      <th></th>\n",
       "      <th>IATA_CODE</th>\n",
       "      <th>AIRLINE</th>\n",
       "    </tr>\n",
       "  </thead>\n",
       "  <tbody>\n",
       "    <tr>\n",
       "      <th>0</th>\n",
       "      <td>UA</td>\n",
       "      <td>United Air Lines Inc.</td>\n",
       "    </tr>\n",
       "    <tr>\n",
       "      <th>1</th>\n",
       "      <td>AA</td>\n",
       "      <td>American Airlines Inc.</td>\n",
       "    </tr>\n",
       "    <tr>\n",
       "      <th>2</th>\n",
       "      <td>US</td>\n",
       "      <td>US Airways Inc.</td>\n",
       "    </tr>\n",
       "    <tr>\n",
       "      <th>3</th>\n",
       "      <td>F9</td>\n",
       "      <td>Frontier Airlines Inc.</td>\n",
       "    </tr>\n",
       "    <tr>\n",
       "      <th>4</th>\n",
       "      <td>B6</td>\n",
       "      <td>JetBlue Airways</td>\n",
       "    </tr>\n",
       "  </tbody>\n",
       "</table>\n",
       "</div>"
      ],
      "text/plain": [
       "  IATA_CODE                 AIRLINE\n",
       "0        UA   United Air Lines Inc.\n",
       "1        AA  American Airlines Inc.\n",
       "2        US         US Airways Inc.\n",
       "3        F9  Frontier Airlines Inc.\n",
       "4        B6         JetBlue Airways"
      ]
     },
     "execution_count": 31,
     "metadata": {},
     "output_type": "execute_result"
    }
   ],
   "source": [
    "\n",
    "df1 = pd.read_csv(os.path.join(settings.DATA_DIR, \"airlines.csv\"))\n",
    "df1.head()"
   ]
  },
  {
   "cell_type": "code",
   "execution_count": 32,
   "metadata": {},
   "outputs": [
    {
     "data": {
      "text/html": [
       "<div>\n",
       "<style scoped>\n",
       "    .dataframe tbody tr th:only-of-type {\n",
       "        vertical-align: middle;\n",
       "    }\n",
       "\n",
       "    .dataframe tbody tr th {\n",
       "        vertical-align: top;\n",
       "    }\n",
       "\n",
       "    .dataframe thead th {\n",
       "        text-align: right;\n",
       "    }\n",
       "</style>\n",
       "<table border=\"1\" class=\"dataframe\">\n",
       "  <thead>\n",
       "    <tr style=\"text-align: right;\">\n",
       "      <th></th>\n",
       "      <th>IATA_CODE</th>\n",
       "      <th>AIRPORT</th>\n",
       "      <th>CITY</th>\n",
       "      <th>STATE</th>\n",
       "      <th>COUNTRY</th>\n",
       "      <th>LATITUDE</th>\n",
       "      <th>LONGITUDE</th>\n",
       "    </tr>\n",
       "  </thead>\n",
       "  <tbody>\n",
       "    <tr>\n",
       "      <th>0</th>\n",
       "      <td>ABE</td>\n",
       "      <td>Lehigh Valley International Airport</td>\n",
       "      <td>Allentown</td>\n",
       "      <td>PA</td>\n",
       "      <td>USA</td>\n",
       "      <td>40.65236</td>\n",
       "      <td>-75.44040</td>\n",
       "    </tr>\n",
       "    <tr>\n",
       "      <th>1</th>\n",
       "      <td>ABI</td>\n",
       "      <td>Abilene Regional Airport</td>\n",
       "      <td>Abilene</td>\n",
       "      <td>TX</td>\n",
       "      <td>USA</td>\n",
       "      <td>32.41132</td>\n",
       "      <td>-99.68190</td>\n",
       "    </tr>\n",
       "    <tr>\n",
       "      <th>2</th>\n",
       "      <td>ABQ</td>\n",
       "      <td>Albuquerque International Sunport</td>\n",
       "      <td>Albuquerque</td>\n",
       "      <td>NM</td>\n",
       "      <td>USA</td>\n",
       "      <td>35.04022</td>\n",
       "      <td>-106.60919</td>\n",
       "    </tr>\n",
       "    <tr>\n",
       "      <th>3</th>\n",
       "      <td>ABR</td>\n",
       "      <td>Aberdeen Regional Airport</td>\n",
       "      <td>Aberdeen</td>\n",
       "      <td>SD</td>\n",
       "      <td>USA</td>\n",
       "      <td>45.44906</td>\n",
       "      <td>-98.42183</td>\n",
       "    </tr>\n",
       "    <tr>\n",
       "      <th>4</th>\n",
       "      <td>ABY</td>\n",
       "      <td>Southwest Georgia Regional Airport</td>\n",
       "      <td>Albany</td>\n",
       "      <td>GA</td>\n",
       "      <td>USA</td>\n",
       "      <td>31.53552</td>\n",
       "      <td>-84.19447</td>\n",
       "    </tr>\n",
       "  </tbody>\n",
       "</table>\n",
       "</div>"
      ],
      "text/plain": [
       "  IATA_CODE                              AIRPORT         CITY STATE COUNTRY  \\\n",
       "0       ABE  Lehigh Valley International Airport    Allentown    PA     USA   \n",
       "1       ABI             Abilene Regional Airport      Abilene    TX     USA   \n",
       "2       ABQ    Albuquerque International Sunport  Albuquerque    NM     USA   \n",
       "3       ABR            Aberdeen Regional Airport     Aberdeen    SD     USA   \n",
       "4       ABY   Southwest Georgia Regional Airport       Albany    GA     USA   \n",
       "\n",
       "   LATITUDE  LONGITUDE  \n",
       "0  40.65236  -75.44040  \n",
       "1  32.41132  -99.68190  \n",
       "2  35.04022 -106.60919  \n",
       "3  45.44906  -98.42183  \n",
       "4  31.53552  -84.19447  "
      ]
     },
     "execution_count": 32,
     "metadata": {},
     "output_type": "execute_result"
    }
   ],
   "source": [
    "df2 = pd.read_csv(os.path.join(settings.DATA_DIR,\"airports.csv\"))\n",
    "df2.head()"
   ]
  },
  {
   "cell_type": "code",
   "execution_count": 33,
   "metadata": {},
   "outputs": [
    {
     "data": {
      "text/html": [
       "<div>\n",
       "<style scoped>\n",
       "    .dataframe tbody tr th:only-of-type {\n",
       "        vertical-align: middle;\n",
       "    }\n",
       "\n",
       "    .dataframe tbody tr th {\n",
       "        vertical-align: top;\n",
       "    }\n",
       "\n",
       "    .dataframe thead th {\n",
       "        text-align: right;\n",
       "    }\n",
       "</style>\n",
       "<table border=\"1\" class=\"dataframe\">\n",
       "  <thead>\n",
       "    <tr style=\"text-align: right;\">\n",
       "      <th></th>\n",
       "      <th>YEAR</th>\n",
       "      <th>MONTH</th>\n",
       "      <th>DAY</th>\n",
       "      <th>DAY_OF_WEEK</th>\n",
       "      <th>AIRLINE</th>\n",
       "      <th>FLIGHT_NUMBER</th>\n",
       "      <th>TAIL_NUMBER</th>\n",
       "      <th>ORIGIN_AIRPORT</th>\n",
       "      <th>DESTINATION_AIRPORT</th>\n",
       "      <th>SCHEDULED_DEPARTURE</th>\n",
       "      <th>...</th>\n",
       "      <th>ARRIVAL_TIME</th>\n",
       "      <th>ARRIVAL_DELAY</th>\n",
       "      <th>DIVERTED</th>\n",
       "      <th>CANCELLED</th>\n",
       "      <th>CANCELLATION_REASON</th>\n",
       "      <th>AIR_SYSTEM_DELAY</th>\n",
       "      <th>SECURITY_DELAY</th>\n",
       "      <th>AIRLINE_DELAY</th>\n",
       "      <th>LATE_AIRCRAFT_DELAY</th>\n",
       "      <th>WEATHER_DELAY</th>\n",
       "    </tr>\n",
       "  </thead>\n",
       "  <tbody>\n",
       "    <tr>\n",
       "      <th>0</th>\n",
       "      <td>2015</td>\n",
       "      <td>1</td>\n",
       "      <td>1</td>\n",
       "      <td>4</td>\n",
       "      <td>AS</td>\n",
       "      <td>98</td>\n",
       "      <td>N407AS</td>\n",
       "      <td>ANC</td>\n",
       "      <td>SEA</td>\n",
       "      <td>5</td>\n",
       "      <td>...</td>\n",
       "      <td>408.0</td>\n",
       "      <td>-22.0</td>\n",
       "      <td>0</td>\n",
       "      <td>0</td>\n",
       "      <td>NaN</td>\n",
       "      <td>NaN</td>\n",
       "      <td>NaN</td>\n",
       "      <td>NaN</td>\n",
       "      <td>NaN</td>\n",
       "      <td>NaN</td>\n",
       "    </tr>\n",
       "    <tr>\n",
       "      <th>1</th>\n",
       "      <td>2015</td>\n",
       "      <td>1</td>\n",
       "      <td>1</td>\n",
       "      <td>4</td>\n",
       "      <td>AA</td>\n",
       "      <td>2336</td>\n",
       "      <td>N3KUAA</td>\n",
       "      <td>LAX</td>\n",
       "      <td>PBI</td>\n",
       "      <td>10</td>\n",
       "      <td>...</td>\n",
       "      <td>741.0</td>\n",
       "      <td>-9.0</td>\n",
       "      <td>0</td>\n",
       "      <td>0</td>\n",
       "      <td>NaN</td>\n",
       "      <td>NaN</td>\n",
       "      <td>NaN</td>\n",
       "      <td>NaN</td>\n",
       "      <td>NaN</td>\n",
       "      <td>NaN</td>\n",
       "    </tr>\n",
       "    <tr>\n",
       "      <th>2</th>\n",
       "      <td>2015</td>\n",
       "      <td>1</td>\n",
       "      <td>1</td>\n",
       "      <td>4</td>\n",
       "      <td>US</td>\n",
       "      <td>840</td>\n",
       "      <td>N171US</td>\n",
       "      <td>SFO</td>\n",
       "      <td>CLT</td>\n",
       "      <td>20</td>\n",
       "      <td>...</td>\n",
       "      <td>811.0</td>\n",
       "      <td>5.0</td>\n",
       "      <td>0</td>\n",
       "      <td>0</td>\n",
       "      <td>NaN</td>\n",
       "      <td>NaN</td>\n",
       "      <td>NaN</td>\n",
       "      <td>NaN</td>\n",
       "      <td>NaN</td>\n",
       "      <td>NaN</td>\n",
       "    </tr>\n",
       "    <tr>\n",
       "      <th>3</th>\n",
       "      <td>2015</td>\n",
       "      <td>1</td>\n",
       "      <td>1</td>\n",
       "      <td>4</td>\n",
       "      <td>AA</td>\n",
       "      <td>258</td>\n",
       "      <td>N3HYAA</td>\n",
       "      <td>LAX</td>\n",
       "      <td>MIA</td>\n",
       "      <td>20</td>\n",
       "      <td>...</td>\n",
       "      <td>756.0</td>\n",
       "      <td>-9.0</td>\n",
       "      <td>0</td>\n",
       "      <td>0</td>\n",
       "      <td>NaN</td>\n",
       "      <td>NaN</td>\n",
       "      <td>NaN</td>\n",
       "      <td>NaN</td>\n",
       "      <td>NaN</td>\n",
       "      <td>NaN</td>\n",
       "    </tr>\n",
       "    <tr>\n",
       "      <th>4</th>\n",
       "      <td>2015</td>\n",
       "      <td>1</td>\n",
       "      <td>1</td>\n",
       "      <td>4</td>\n",
       "      <td>AS</td>\n",
       "      <td>135</td>\n",
       "      <td>N527AS</td>\n",
       "      <td>SEA</td>\n",
       "      <td>ANC</td>\n",
       "      <td>25</td>\n",
       "      <td>...</td>\n",
       "      <td>259.0</td>\n",
       "      <td>-21.0</td>\n",
       "      <td>0</td>\n",
       "      <td>0</td>\n",
       "      <td>NaN</td>\n",
       "      <td>NaN</td>\n",
       "      <td>NaN</td>\n",
       "      <td>NaN</td>\n",
       "      <td>NaN</td>\n",
       "      <td>NaN</td>\n",
       "    </tr>\n",
       "  </tbody>\n",
       "</table>\n",
       "<p>5 rows × 31 columns</p>\n",
       "</div>"
      ],
      "text/plain": [
       "   YEAR  MONTH  DAY  DAY_OF_WEEK AIRLINE  FLIGHT_NUMBER TAIL_NUMBER  \\\n",
       "0  2015      1    1            4      AS             98      N407AS   \n",
       "1  2015      1    1            4      AA           2336      N3KUAA   \n",
       "2  2015      1    1            4      US            840      N171US   \n",
       "3  2015      1    1            4      AA            258      N3HYAA   \n",
       "4  2015      1    1            4      AS            135      N527AS   \n",
       "\n",
       "  ORIGIN_AIRPORT DESTINATION_AIRPORT  SCHEDULED_DEPARTURE      ...        \\\n",
       "0            ANC                 SEA                    5      ...         \n",
       "1            LAX                 PBI                   10      ...         \n",
       "2            SFO                 CLT                   20      ...         \n",
       "3            LAX                 MIA                   20      ...         \n",
       "4            SEA                 ANC                   25      ...         \n",
       "\n",
       "   ARRIVAL_TIME  ARRIVAL_DELAY  DIVERTED  CANCELLED  CANCELLATION_REASON  \\\n",
       "0         408.0          -22.0         0          0                  NaN   \n",
       "1         741.0           -9.0         0          0                  NaN   \n",
       "2         811.0            5.0         0          0                  NaN   \n",
       "3         756.0           -9.0         0          0                  NaN   \n",
       "4         259.0          -21.0         0          0                  NaN   \n",
       "\n",
       "   AIR_SYSTEM_DELAY  SECURITY_DELAY  AIRLINE_DELAY  LATE_AIRCRAFT_DELAY  \\\n",
       "0               NaN             NaN            NaN                  NaN   \n",
       "1               NaN             NaN            NaN                  NaN   \n",
       "2               NaN             NaN            NaN                  NaN   \n",
       "3               NaN             NaN            NaN                  NaN   \n",
       "4               NaN             NaN            NaN                  NaN   \n",
       "\n",
       "   WEATHER_DELAY  \n",
       "0            NaN  \n",
       "1            NaN  \n",
       "2            NaN  \n",
       "3            NaN  \n",
       "4            NaN  \n",
       "\n",
       "[5 rows x 31 columns]"
      ]
     },
     "execution_count": 33,
     "metadata": {},
     "output_type": "execute_result"
    }
   ],
   "source": [
    "df3 = pd.read_csv(os.path.join(settings.DATA_DIR,\"Flights.csv\"))\n",
    "df3.head()"
   ]
  },
  {
   "cell_type": "code",
   "execution_count": 34,
   "metadata": {},
   "outputs": [
    {
     "name": "stdout",
     "output_type": "stream",
     "text": [
      "<class 'pandas.core.frame.DataFrame'>\n",
      "RangeIndex: 999999 entries, 0 to 999998\n",
      "Data columns (total 31 columns):\n",
      "YEAR                   999999 non-null int64\n",
      "MONTH                  999999 non-null int64\n",
      "DAY                    999999 non-null int64\n",
      "DAY_OF_WEEK            999999 non-null int64\n",
      "AIRLINE                999999 non-null object\n",
      "FLIGHT_NUMBER          999999 non-null int64\n",
      "TAIL_NUMBER            992290 non-null object\n",
      "ORIGIN_AIRPORT         999999 non-null object\n",
      "DESTINATION_AIRPORT    999999 non-null object\n",
      "SCHEDULED_DEPARTURE    999999 non-null int64\n",
      "DEPARTURE_TIME         960841 non-null float64\n",
      "DEPARTURE_DELAY        960841 non-null float64\n",
      "TAXI_OUT               960144 non-null float64\n",
      "WHEELS_OFF             960144 non-null float64\n",
      "SCHEDULED_TIME         999997 non-null float64\n",
      "ELAPSED_TIME           957393 non-null float64\n",
      "AIR_TIME               957393 non-null float64\n",
      "DISTANCE               999999 non-null int64\n",
      "WHEELS_ON              959116 non-null float64\n",
      "TAXI_IN                959116 non-null float64\n",
      "SCHEDULED_ARRIVAL      999999 non-null int64\n",
      "ARRIVAL_TIME           959116 non-null float64\n",
      "ARRIVAL_DELAY          957393 non-null float64\n",
      "DIVERTED               999999 non-null int64\n",
      "CANCELLED              999999 non-null int64\n",
      "CANCELLATION_REASON    40132 non-null object\n",
      "AIR_SYSTEM_DELAY       221041 non-null float64\n",
      "SECURITY_DELAY         221041 non-null float64\n",
      "AIRLINE_DELAY          221041 non-null float64\n",
      "LATE_AIRCRAFT_DELAY    221041 non-null float64\n",
      "WEATHER_DELAY          221041 non-null float64\n",
      "dtypes: float64(16), int64(10), object(5)\n",
      "memory usage: 236.5+ MB\n"
     ]
    }
   ],
   "source": [
    "df3.info()"
   ]
  },
  {
   "cell_type": "code",
   "execution_count": 35,
   "metadata": {},
   "outputs": [
    {
     "name": "stdout",
     "output_type": "stream",
     "text": [
      "0    959867\n",
      "1     40132\n",
      "Name: CANCELLED, dtype: int64\n"
     ]
    },
    {
     "data": {
      "text/plain": [
       "<matplotlib.axes._subplots.AxesSubplot at 0x4953ee0b8>"
      ]
     },
     "execution_count": 35,
     "metadata": {},
     "output_type": "execute_result"
    },
    {
     "data": {
      "image/png": "[encoded data removed]",
      "text/plain": [
       "<Figure size 432x288 with 1 Axes>"
      ]
     },
     "metadata": {},
     "output_type": "display_data"
    }
   ],
   "source": [
    "#How many flights were cancelled in the year 2015 ?\n",
    "\n",
    "print(df3['CANCELLED'].value_counts())\n",
    "sns.countplot(x='CANCELLED', data=df3)"
   ]
  },
  {
   "cell_type": "code",
   "execution_count": 36,
   "metadata": {},
   "outputs": [
    {
     "data": {
      "text/plain": [
       "<matplotlib.axes._subplots.AxesSubplot at 0x49d77acf8>"
      ]
     },
     "execution_count": 36,
     "metadata": {},
     "output_type": "execute_result"
    },
    {
     "data": {
      "image/png": "[encoded data removed]",
      "text/plain": [
       "<Figure size 432x288 with 1 Axes>"
      ]
     },
     "metadata": {},
     "output_type": "display_data"
    }
   ],
   "source": [
    "#Reason for cancellation -\n",
    "sns.countplot(x=\"CANCELLATION_REASON\",data=df3)"
   ]
  },
  {
   "cell_type": "code",
   "execution_count": 37,
   "metadata": {},
   "outputs": [
    {
     "data": {
      "text/plain": [
       "<matplotlib.axes._subplots.AxesSubplot at 0x49d7d8128>"
      ]
     },
     "execution_count": 37,
     "metadata": {},
     "output_type": "execute_result"
    },
    {
     "data": {
      "image/png": "[encoded data removed]",
      "text/plain": [
       "<Figure size 432x288 with 1 Axes>"
      ]
     },
     "metadata": {},
     "output_type": "display_data"
    }
   ],
   "source": [
    "#Since weather is the reason of highest cancellations ,we plot in which month did weather related cancellations happen-\n",
    "sns.countplot(x = \"MONTH\",data=df3[df3[\"CANCELLATION_REASON\"]=='B'])\n"
   ]
  },
  {
   "cell_type": "code",
   "execution_count": 38,
   "metadata": {},
   "outputs": [
    {
     "data": {
      "text/html": [
       "<div>\n",
       "<style scoped>\n",
       "    .dataframe tbody tr th:only-of-type {\n",
       "        vertical-align: middle;\n",
       "    }\n",
       "\n",
       "    .dataframe tbody tr th {\n",
       "        vertical-align: top;\n",
       "    }\n",
       "\n",
       "    .dataframe thead th {\n",
       "        text-align: right;\n",
       "    }\n",
       "</style>\n",
       "<table border=\"1\" class=\"dataframe\">\n",
       "  <thead>\n",
       "    <tr style=\"text-align: right;\">\n",
       "      <th></th>\n",
       "      <th>YEAR</th>\n",
       "      <th>MONTH</th>\n",
       "      <th>DAY</th>\n",
       "      <th>DAY_OF_WEEK</th>\n",
       "      <th>AIRLINE</th>\n",
       "      <th>FLIGHT_NUMBER</th>\n",
       "      <th>TAIL_NUMBER</th>\n",
       "      <th>ORIGIN_AIRPORT</th>\n",
       "      <th>DESTINATION_AIRPORT</th>\n",
       "      <th>SCHEDULED_DEPARTURE</th>\n",
       "      <th>...</th>\n",
       "      <th>CANCELLATION_REASON</th>\n",
       "      <th>AIR_SYSTEM_DELAY</th>\n",
       "      <th>SECURITY_DELAY</th>\n",
       "      <th>AIRLINE_DELAY</th>\n",
       "      <th>LATE_AIRCRAFT_DELAY</th>\n",
       "      <th>WEATHER_DELAY</th>\n",
       "      <th>ORIGIN_LATITUDE</th>\n",
       "      <th>ORIGIN_LONGITUDE</th>\n",
       "      <th>DESTINATION_LATITUDE</th>\n",
       "      <th>DESTINATION_LONGITUDE</th>\n",
       "    </tr>\n",
       "  </thead>\n",
       "  <tbody>\n",
       "    <tr>\n",
       "      <th>0</th>\n",
       "      <td>2015</td>\n",
       "      <td>1</td>\n",
       "      <td>1</td>\n",
       "      <td>4</td>\n",
       "      <td>AS</td>\n",
       "      <td>98</td>\n",
       "      <td>N407AS</td>\n",
       "      <td>ANC</td>\n",
       "      <td>SEA</td>\n",
       "      <td>5</td>\n",
       "      <td>...</td>\n",
       "      <td>NaN</td>\n",
       "      <td>NaN</td>\n",
       "      <td>NaN</td>\n",
       "      <td>NaN</td>\n",
       "      <td>NaN</td>\n",
       "      <td>NaN</td>\n",
       "      <td>61.17432</td>\n",
       "      <td>-149.99619</td>\n",
       "      <td>47.44898</td>\n",
       "      <td>-122.30931</td>\n",
       "    </tr>\n",
       "    <tr>\n",
       "      <th>1</th>\n",
       "      <td>2015</td>\n",
       "      <td>1</td>\n",
       "      <td>1</td>\n",
       "      <td>4</td>\n",
       "      <td>AA</td>\n",
       "      <td>2336</td>\n",
       "      <td>N3KUAA</td>\n",
       "      <td>LAX</td>\n",
       "      <td>PBI</td>\n",
       "      <td>10</td>\n",
       "      <td>...</td>\n",
       "      <td>NaN</td>\n",
       "      <td>NaN</td>\n",
       "      <td>NaN</td>\n",
       "      <td>NaN</td>\n",
       "      <td>NaN</td>\n",
       "      <td>NaN</td>\n",
       "      <td>33.94254</td>\n",
       "      <td>-118.40807</td>\n",
       "      <td>26.68316</td>\n",
       "      <td>-80.09559</td>\n",
       "    </tr>\n",
       "    <tr>\n",
       "      <th>2</th>\n",
       "      <td>2015</td>\n",
       "      <td>1</td>\n",
       "      <td>1</td>\n",
       "      <td>4</td>\n",
       "      <td>US</td>\n",
       "      <td>840</td>\n",
       "      <td>N171US</td>\n",
       "      <td>SFO</td>\n",
       "      <td>CLT</td>\n",
       "      <td>20</td>\n",
       "      <td>...</td>\n",
       "      <td>NaN</td>\n",
       "      <td>NaN</td>\n",
       "      <td>NaN</td>\n",
       "      <td>NaN</td>\n",
       "      <td>NaN</td>\n",
       "      <td>NaN</td>\n",
       "      <td>37.61900</td>\n",
       "      <td>-122.37484</td>\n",
       "      <td>35.21401</td>\n",
       "      <td>-80.94313</td>\n",
       "    </tr>\n",
       "    <tr>\n",
       "      <th>3</th>\n",
       "      <td>2015</td>\n",
       "      <td>1</td>\n",
       "      <td>1</td>\n",
       "      <td>4</td>\n",
       "      <td>AA</td>\n",
       "      <td>258</td>\n",
       "      <td>N3HYAA</td>\n",
       "      <td>LAX</td>\n",
       "      <td>MIA</td>\n",
       "      <td>20</td>\n",
       "      <td>...</td>\n",
       "      <td>NaN</td>\n",
       "      <td>NaN</td>\n",
       "      <td>NaN</td>\n",
       "      <td>NaN</td>\n",
       "      <td>NaN</td>\n",
       "      <td>NaN</td>\n",
       "      <td>33.94254</td>\n",
       "      <td>-118.40807</td>\n",
       "      <td>25.79325</td>\n",
       "      <td>-80.29056</td>\n",
       "    </tr>\n",
       "    <tr>\n",
       "      <th>4</th>\n",
       "      <td>2015</td>\n",
       "      <td>1</td>\n",
       "      <td>1</td>\n",
       "      <td>4</td>\n",
       "      <td>AS</td>\n",
       "      <td>135</td>\n",
       "      <td>N527AS</td>\n",
       "      <td>SEA</td>\n",
       "      <td>ANC</td>\n",
       "      <td>25</td>\n",
       "      <td>...</td>\n",
       "      <td>NaN</td>\n",
       "      <td>NaN</td>\n",
       "      <td>NaN</td>\n",
       "      <td>NaN</td>\n",
       "      <td>NaN</td>\n",
       "      <td>NaN</td>\n",
       "      <td>47.44898</td>\n",
       "      <td>-122.30931</td>\n",
       "      <td>61.17432</td>\n",
       "      <td>-149.99619</td>\n",
       "    </tr>\n",
       "  </tbody>\n",
       "</table>\n",
       "<p>5 rows × 35 columns</p>\n",
       "</div>"
      ],
      "text/plain": [
       "   YEAR  MONTH  DAY  DAY_OF_WEEK AIRLINE  FLIGHT_NUMBER TAIL_NUMBER  \\\n",
       "0  2015      1    1            4      AS             98      N407AS   \n",
       "1  2015      1    1            4      AA           2336      N3KUAA   \n",
       "2  2015      1    1            4      US            840      N171US   \n",
       "3  2015      1    1            4      AA            258      N3HYAA   \n",
       "4  2015      1    1            4      AS            135      N527AS   \n",
       "\n",
       "  ORIGIN_AIRPORT DESTINATION_AIRPORT  SCHEDULED_DEPARTURE  \\\n",
       "0            ANC                 SEA                    5   \n",
       "1            LAX                 PBI                   10   \n",
       "2            SFO                 CLT                   20   \n",
       "3            LAX                 MIA                   20   \n",
       "4            SEA                 ANC                   25   \n",
       "\n",
       "           ...            CANCELLATION_REASON  AIR_SYSTEM_DELAY  \\\n",
       "0          ...                            NaN               NaN   \n",
       "1          ...                            NaN               NaN   \n",
       "2          ...                            NaN               NaN   \n",
       "3          ...                            NaN               NaN   \n",
       "4          ...                            NaN               NaN   \n",
       "\n",
       "   SECURITY_DELAY  AIRLINE_DELAY  LATE_AIRCRAFT_DELAY  WEATHER_DELAY  \\\n",
       "0             NaN            NaN                  NaN            NaN   \n",
       "1             NaN            NaN                  NaN            NaN   \n",
       "2             NaN            NaN                  NaN            NaN   \n",
       "3             NaN            NaN                  NaN            NaN   \n",
       "4             NaN            NaN                  NaN            NaN   \n",
       "\n",
       "   ORIGIN_LATITUDE  ORIGIN_LONGITUDE  DESTINATION_LATITUDE  \\\n",
       "0         61.17432        -149.99619              47.44898   \n",
       "1         33.94254        -118.40807              26.68316   \n",
       "2         37.61900        -122.37484              35.21401   \n",
       "3         33.94254        -118.40807              25.79325   \n",
       "4         47.44898        -122.30931              61.17432   \n",
       "\n",
       "   DESTINATION_LONGITUDE  \n",
       "0             -122.30931  \n",
       "1              -80.09559  \n",
       "2              -80.94313  \n",
       "3              -80.29056  \n",
       "4             -149.99619  \n",
       "\n",
       "[5 rows x 35 columns]"
      ]
     },
     "execution_count": 38,
     "metadata": {},
     "output_type": "execute_result"
    }
   ],
   "source": [
    "# next we will integrate the latitude/longitude information into the flights dataframe\n",
    "df2 = df2.set_index(\"IATA_CODE\")\n",
    "for loc in ['ORIGIN','DESTINATION']:\n",
    "        for dir in ['LATITUDE','LONGITUDE']:\n",
    "            df3[loc+'_'+dir] =(df2[dir][df3[loc+\"_AIRPORT\"][:]]).reset_index()[[dir]]\n",
    "df3.head()"
   ]
  },
  {
   "cell_type": "code",
   "execution_count": 39,
   "metadata": {},
   "outputs": [],
   "source": [
    "def barplot_feature(df,feature, target = 'CANCELLED',cut = False, bins = 3):\n",
    "    '''Plot of cancellation rate for various features. More continuous features can be binned together to convert\n",
    "    to ranges of values\n",
    "    \n",
    "    df: the dataframe with the flight data\n",
    "    feature: the feature to be plotted, must be a string a match a feature in df\n",
    "    target: the prediction value, must be a string and match a feature in df\n",
    "    cut: use cut if feature has continuous values.  '''\n",
    "    if cut == True:\n",
    "        # define a new feature which specifies a range of values for 'feature'.  ranges are determined according to 'bin'\n",
    "        df['bins'] = pd.cut(df3[feature],bins)\n",
    "        group_df = df[['bins',target]].groupby(['bins']).mean()\n",
    "        return group_df.plot(kind='bar')\n",
    "        #plt.title(feature)\n",
    "    else:\n",
    "        group_df = df[[feature,target]].groupby([feature],as_index=False).mean()\n",
    "        return sns.barplot(x = feature, y = target, data=group_df)\n",
    "        "
   ]
  },
  {
   "cell_type": "code",
   "execution_count": 40,
   "metadata": {},
   "outputs": [
    {
     "data": {
      "text/plain": [
       "Text(0.5,1,'Origin_Longitude')"
      ]
     },
     "execution_count": 40,
     "metadata": {},
     "output_type": "execute_result"
    },
    {
     "data": {
      "image/png": "[encoded data removed]",
      "text/plain": [
       "<Figure size 432x288 with 1 Axes>"
      ]
     },
     "metadata": {},
     "output_type": "display_data"
    },
    {
     "data": {
      "image/png": "[encoded data removed]",
      "text/plain": [
       "<Figure size 432x288 with 1 Axes>"
      ]
     },
     "metadata": {},
     "output_type": "display_data"
    },
    {
     "data": {
      "image/png": "[encoded data removed]",
      "text/plain": [
       "<Figure size 432x288 with 1 Axes>"
      ]
     },
     "metadata": {},
     "output_type": "display_data"
    },
    {
     "data": {
      "image/png": "[encoded data removed]",
      "text/plain": [
       "<Figure size 432x288 with 1 Axes>"
      ]
     },
     "metadata": {},
     "output_type": "display_data"
    }
   ],
   "source": [
    "#how much does airport location play a role?\n",
    "barplot_feature(df3,'DESTINATION_LATITUDE',cut = True, bins = 10)\n",
    "plt.title('Destination_Latitude')\n",
    "barplot_feature(df3,'ORIGIN_LATITUDE',cut = True, bins = 10)\n",
    "plt.title('Origin_Latitude')\n",
    "barplot_feature(df3,'DESTINATION_LONGITUDE',cut = True, bins = 10)\n",
    "plt.title('Destination_Longitude')\n",
    "barplot_feature(df3,'ORIGIN_LONGITUDE',cut = True, bins = 10)\n",
    "plt.title('Origin_Longitude')"
   ]
  },
  {
   "cell_type": "code",
   "execution_count": 41,
   "metadata": {},
   "outputs": [
    {
     "data": {
      "text/plain": [
       "<matplotlib.axes._subplots.AxesSubplot at 0x49e3f6d30>"
      ]
     },
     "execution_count": 41,
     "metadata": {},
     "output_type": "execute_result"
    },
    {
     "data": {
      "image/png": "[encoded data removed]",
      "text/plain": [
       "<Figure size 432x288 with 1 Axes>"
      ]
     },
     "metadata": {},
     "output_type": "display_data"
    }
   ],
   "source": [
    "#day of week with highest cancellation\n",
    "barplot_feature(df3,'DAY_OF_WEEK')"
   ]
  },
  {
   "cell_type": "code",
   "execution_count": 42,
   "metadata": {},
   "outputs": [
    {
     "data": {
      "text/plain": [
       "<matplotlib.axes._subplots.AxesSubplot at 0x49e641630>"
      ]
     },
     "execution_count": 42,
     "metadata": {},
     "output_type": "execute_result"
    },
    {
     "data": {
      "image/png": "[encoded data removed]",
      "text/plain": [
       "<Figure size 432x288 with 1 Axes>"
      ]
     },
     "metadata": {},
     "output_type": "display_data"
    }
   ],
   "source": [
    "#airline analysis\n",
    "barplot_feature(df3,'AIRLINE')"
   ]
  },
  {
   "cell_type": "code",
   "execution_count": 43,
   "metadata": {},
   "outputs": [],
   "source": [
    "\n",
    "def preprocess(dataframe,features,dummy_features, predictor, reason='B'):\n",
    "    \n",
    "    if predictor == [\"CANCELLED\"]:\n",
    "        y = dataframe[predictor]\n",
    "    else:\n",
    "       \n",
    "        y = dataframe[['CANCELLATION_REASON']].fillna(value=0)\n",
    "      \n",
    "        y = pd.get_dummies(y['CANCELLATION_REASON'],prefix=\"REASON\")[['REASON_' + reason]]\n",
    "    \n",
    "   \n",
    "    processed = dataframe[features]\n",
    "    \n",
    "    processed = pd.concat([processed,y],axis=1)\n",
    "    processed = processed.dropna()\n",
    "   \n",
    "   \n",
    "    new_dummy_features = []\n",
    "    for feature in dummy_features:\n",
    "        dummy_df = pd.get_dummies(processed[feature],prefix=feature)\n",
    "        new_dummy_features.append(list(dummy_df.columns))\n",
    "        processed = pd.concat([processed,dummy_df], axis=1).drop([feature],axis=1)\n",
    "\n",
    "    \n",
    "    new_dummy_features = [item for sublist in new_dummy_features for item in sublist]     \n",
    "\n",
    "    return processed,new_dummy_features"
   ]
  },
  {
   "cell_type": "code",
   "execution_count": 44,
   "metadata": {},
   "outputs": [
    {
     "data": {
      "text/html": [
       "<div>\n",
       "<style scoped>\n",
       "    .dataframe tbody tr th:only-of-type {\n",
       "        vertical-align: middle;\n",
       "    }\n",
       "\n",
       "    .dataframe tbody tr th {\n",
       "        vertical-align: top;\n",
       "    }\n",
       "\n",
       "    .dataframe thead th {\n",
       "        text-align: right;\n",
       "    }\n",
       "</style>\n",
       "<table border=\"1\" class=\"dataframe\">\n",
       "  <thead>\n",
       "    <tr style=\"text-align: right;\">\n",
       "      <th></th>\n",
       "      <th>SCHEDULED_DEPARTURE</th>\n",
       "      <th>SCHEDULED_ARRIVAL</th>\n",
       "      <th>DISTANCE</th>\n",
       "      <th>SCHEDULED_TIME</th>\n",
       "      <th>ORIGIN_LATITUDE</th>\n",
       "      <th>ORIGIN_LONGITUDE</th>\n",
       "      <th>DESTINATION_LATITUDE</th>\n",
       "      <th>DESTINATION_LONGITUDE</th>\n",
       "      <th>CANCELLED</th>\n",
       "      <th>MONTH_1</th>\n",
       "      <th>...</th>\n",
       "      <th>AIRLINE_EV</th>\n",
       "      <th>AIRLINE_F9</th>\n",
       "      <th>AIRLINE_HA</th>\n",
       "      <th>AIRLINE_MQ</th>\n",
       "      <th>AIRLINE_NK</th>\n",
       "      <th>AIRLINE_OO</th>\n",
       "      <th>AIRLINE_UA</th>\n",
       "      <th>AIRLINE_US</th>\n",
       "      <th>AIRLINE_VX</th>\n",
       "      <th>AIRLINE_WN</th>\n",
       "    </tr>\n",
       "  </thead>\n",
       "  <tbody>\n",
       "    <tr>\n",
       "      <th>0</th>\n",
       "      <td>5</td>\n",
       "      <td>430</td>\n",
       "      <td>1448</td>\n",
       "      <td>205.0</td>\n",
       "      <td>61.17432</td>\n",
       "      <td>-149.99619</td>\n",
       "      <td>47.44898</td>\n",
       "      <td>-122.30931</td>\n",
       "      <td>0</td>\n",
       "      <td>1</td>\n",
       "      <td>...</td>\n",
       "      <td>0</td>\n",
       "      <td>0</td>\n",
       "      <td>0</td>\n",
       "      <td>0</td>\n",
       "      <td>0</td>\n",
       "      <td>0</td>\n",
       "      <td>0</td>\n",
       "      <td>0</td>\n",
       "      <td>0</td>\n",
       "      <td>0</td>\n",
       "    </tr>\n",
       "    <tr>\n",
       "      <th>1</th>\n",
       "      <td>10</td>\n",
       "      <td>750</td>\n",
       "      <td>2330</td>\n",
       "      <td>280.0</td>\n",
       "      <td>33.94254</td>\n",
       "      <td>-118.40807</td>\n",
       "      <td>26.68316</td>\n",
       "      <td>-80.09559</td>\n",
       "      <td>0</td>\n",
       "      <td>1</td>\n",
       "      <td>...</td>\n",
       "      <td>0</td>\n",
       "      <td>0</td>\n",
       "      <td>0</td>\n",
       "      <td>0</td>\n",
       "      <td>0</td>\n",
       "      <td>0</td>\n",
       "      <td>0</td>\n",
       "      <td>0</td>\n",
       "      <td>0</td>\n",
       "      <td>0</td>\n",
       "    </tr>\n",
       "    <tr>\n",
       "      <th>2</th>\n",
       "      <td>20</td>\n",
       "      <td>806</td>\n",
       "      <td>2296</td>\n",
       "      <td>286.0</td>\n",
       "      <td>37.61900</td>\n",
       "      <td>-122.37484</td>\n",
       "      <td>35.21401</td>\n",
       "      <td>-80.94313</td>\n",
       "      <td>0</td>\n",
       "      <td>1</td>\n",
       "      <td>...</td>\n",
       "      <td>0</td>\n",
       "      <td>0</td>\n",
       "      <td>0</td>\n",
       "      <td>0</td>\n",
       "      <td>0</td>\n",
       "      <td>0</td>\n",
       "      <td>0</td>\n",
       "      <td>1</td>\n",
       "      <td>0</td>\n",
       "      <td>0</td>\n",
       "    </tr>\n",
       "    <tr>\n",
       "      <th>3</th>\n",
       "      <td>20</td>\n",
       "      <td>805</td>\n",
       "      <td>2342</td>\n",
       "      <td>285.0</td>\n",
       "      <td>33.94254</td>\n",
       "      <td>-118.40807</td>\n",
       "      <td>25.79325</td>\n",
       "      <td>-80.29056</td>\n",
       "      <td>0</td>\n",
       "      <td>1</td>\n",
       "      <td>...</td>\n",
       "      <td>0</td>\n",
       "      <td>0</td>\n",
       "      <td>0</td>\n",
       "      <td>0</td>\n",
       "      <td>0</td>\n",
       "      <td>0</td>\n",
       "      <td>0</td>\n",
       "      <td>0</td>\n",
       "      <td>0</td>\n",
       "      <td>0</td>\n",
       "    </tr>\n",
       "    <tr>\n",
       "      <th>4</th>\n",
       "      <td>25</td>\n",
       "      <td>320</td>\n",
       "      <td>1448</td>\n",
       "      <td>235.0</td>\n",
       "      <td>47.44898</td>\n",
       "      <td>-122.30931</td>\n",
       "      <td>61.17432</td>\n",
       "      <td>-149.99619</td>\n",
       "      <td>0</td>\n",
       "      <td>1</td>\n",
       "      <td>...</td>\n",
       "      <td>0</td>\n",
       "      <td>0</td>\n",
       "      <td>0</td>\n",
       "      <td>0</td>\n",
       "      <td>0</td>\n",
       "      <td>0</td>\n",
       "      <td>0</td>\n",
       "      <td>0</td>\n",
       "      <td>0</td>\n",
       "      <td>0</td>\n",
       "    </tr>\n",
       "  </tbody>\n",
       "</table>\n",
       "<p>5 rows × 33 columns</p>\n",
       "</div>"
      ],
      "text/plain": [
       "   SCHEDULED_DEPARTURE  SCHEDULED_ARRIVAL  DISTANCE  SCHEDULED_TIME  \\\n",
       "0                    5                430      1448           205.0   \n",
       "1                   10                750      2330           280.0   \n",
       "2                   20                806      2296           286.0   \n",
       "3                   20                805      2342           285.0   \n",
       "4                   25                320      1448           235.0   \n",
       "\n",
       "   ORIGIN_LATITUDE  ORIGIN_LONGITUDE  DESTINATION_LATITUDE  \\\n",
       "0         61.17432        -149.99619              47.44898   \n",
       "1         33.94254        -118.40807              26.68316   \n",
       "2         37.61900        -122.37484              35.21401   \n",
       "3         33.94254        -118.40807              25.79325   \n",
       "4         47.44898        -122.30931              61.17432   \n",
       "\n",
       "   DESTINATION_LONGITUDE  CANCELLED  MONTH_1     ...      AIRLINE_EV  \\\n",
       "0             -122.30931          0        1     ...               0   \n",
       "1              -80.09559          0        1     ...               0   \n",
       "2              -80.94313          0        1     ...               0   \n",
       "3              -80.29056          0        1     ...               0   \n",
       "4             -149.99619          0        1     ...               0   \n",
       "\n",
       "   AIRLINE_F9  AIRLINE_HA  AIRLINE_MQ  AIRLINE_NK  AIRLINE_OO  AIRLINE_UA  \\\n",
       "0           0           0           0           0           0           0   \n",
       "1           0           0           0           0           0           0   \n",
       "2           0           0           0           0           0           0   \n",
       "3           0           0           0           0           0           0   \n",
       "4           0           0           0           0           0           0   \n",
       "\n",
       "   AIRLINE_US  AIRLINE_VX  AIRLINE_WN  \n",
       "0           0           0           0  \n",
       "1           0           0           0  \n",
       "2           1           0           0  \n",
       "3           0           0           0  \n",
       "4           0           0           0  \n",
       "\n",
       "[5 rows x 33 columns]"
      ]
     },
     "execution_count": 44,
     "metadata": {},
     "output_type": "execute_result"
    }
   ],
   "source": [
    "\n",
    "features = [\"MONTH\",\"DAY_OF_WEEK\",\"AIRLINE\",\"SCHEDULED_DEPARTURE\",\"SCHEDULED_ARRIVAL\",\n",
    "                       \"DISTANCE\", \"SCHEDULED_TIME\",\"ORIGIN_LATITUDE\",\"ORIGIN_LONGITUDE\",\n",
    "                       \"DESTINATION_LATITUDE\",\"DESTINATION_LONGITUDE\"]\n",
    "dummy_features = [\"MONTH\",\"DAY_OF_WEEK\",\"AIRLINE\"]\n",
    "predictor = [\"CANCELLED\"]\n",
    "\n",
    "processed,new_dummy_features = preprocess(df3,features,dummy_features,predictor)\n",
    "processed.head()"
   ]
  },
  {
   "cell_type": "code",
   "execution_count": 45,
   "metadata": {},
   "outputs": [],
   "source": [
    "\n",
    "def compute_false_negatives(target, predictions):\n",
    "    \n",
    "    df = pd.DataFrame({\"target\": target, \"predictions\": predictions})\n",
    "    return df[(df[\"target\"] == 1) & (df[\"predictions\"] == 0)].shape[0] / (df[(df[\"target\"] == 1)].shape[0] + 1)\n",
    "\n",
    "def compute_false_positives(target, predictions):\n",
    "   \n",
    "    df = pd.DataFrame({\"target\": target, \"predictions\": predictions})\n",
    "    return df[(df[\"target\"] == 0) & (df[\"predictions\"] == 1)].shape[0] / (df[(df[\"target\"] == 0)].shape[0] + 1)"
   ]
  },
  {
   "cell_type": "code",
   "execution_count": 46,
   "metadata": {},
   "outputs": [],
   "source": [
    "\n",
    "def split(processed, predictor, reason=\"B\"):\n",
    "    #prepare predictor, feature data, with correct shape\n",
    "    if predictor == [\"CANCELLED\"]:\n",
    "        y = processed[predictor].values\n",
    "        X = processed.drop(predictor,axis=1)\n",
    "    else:\n",
    "        y = processed[['REASON_'+reason]].values\n",
    "        X = processed.drop(['REASON_'+reason],axis=1)\n",
    "    c,r = y.shape\n",
    "    y = y.reshape(c,)\n",
    "    #split into train and test sets\n",
    "    X_train,X_test,y_train,y_test = train_test_split(X,y,test_size=0.3,random_state=1)\n",
    "    return X_train,X_test,y_train,y_test\n",
    "\n",
    "def scale(X_train,X_test,new_dummy_features):\n",
    "    X_train_dummy = X_train[new_dummy_features].values\n",
    "    X_test_dummy = X_test[new_dummy_features].values\n",
    "    X_train = X_train.drop(new_dummy_features,axis=1).values\n",
    "    X_test = X_test.drop(new_dummy_features,axis=1).values\n",
    "    #standarize non dummy features using training set\n",
    "    scaler = preprocessing.StandardScaler().fit(X_train)\n",
    "    X_train_transformed = scaler.transform(X_train)\n",
    "    #recombine training sets\n",
    "    X_train_final = np.concatenate((X_train_transformed,X_train_dummy),axis=1)\n",
    "    #scale test set using training fits\n",
    "    X_test_transformed = scaler.transform(X_test)\n",
    "    #recombine\n",
    "    X_test_final = np.concatenate((X_test_transformed,X_test_dummy),axis=1)\n",
    "    return X_train_final, X_test_final\n",
    "\n",
    "def predict_score(X_train_final,y_train,X_test_final,y_test):\n",
    "    # train a logistic regression model\n",
    "    clf = LogisticRegression(random_state=1, class_weight=\"balanced\").fit(X_train_final, y_train)\n",
    "    predictions = clf.predict(X_test_final)\n",
    "    score = clf.score(X_test_final,y_test)\n",
    "    return predictions, score\n"
   ]
  },
  {
   "cell_type": "code",
   "execution_count": 47,
   "metadata": {},
   "outputs": [
    {
     "name": "stdout",
     "output_type": "stream",
     "text": [
      "Accuracy Score: 0.6964457348818582\n",
      "False Negatives: 0.293107822410148\n",
      "False Positives: 0.30398134926012016\n"
     ]
    }
   ],
   "source": [
    "#If the flight has been cancelled or not\n",
    "X_train,X_test,y_train,y_test = split(processed,predictor)\n",
    "X_train_final,X_test_final = scale(X_train,X_test,new_dummy_features)\n",
    "predictions,score = predict_score(X_train_final,y_train,X_test_final,y_test)\n",
    "fn = compute_false_negatives(y_test, predictions)\n",
    "fp = compute_false_positives(y_test, predictions)\n",
    "print(\"Accuracy Score: {}\".format(score))\n",
    "print(\"False Negatives: {}\".format(fn))\n",
    "print(\"False Positives: {}\".format(fp))\n"
   ]
  },
  {
   "cell_type": "markdown",
   "metadata": {},
   "source": [
    "## Predict weather related cancellations\n"
   ]
  },
  {
   "cell_type": "code",
   "execution_count": 48,
   "metadata": {},
   "outputs": [
    {
     "name": "stdout",
     "output_type": "stream",
     "text": [
      "Accuracy Score: 0.7068014951274864\n",
      "False Negatives: 0.2696588868940754\n",
      "False Positives: 0.2938716798209326\n"
     ]
    }
   ],
   "source": [
    "\n",
    "predictor = [\"CANCELLATION_REASON\"]\n",
    "processed,new_dummy_features = preprocess(df3,features,dummy_features,predictor)\n",
    "X_train,X_test,y_train,y_test = split(processed,predictor)\n",
    "X_train_final,X_test_final = scale(X_train,X_test,new_dummy_features)\n",
    "predictions,score = predict_score(X_train_final,y_train,X_test_final,y_test)\n",
    "fn = compute_false_negatives(y_test, predictions)\n",
    "fp = compute_false_positives(y_test, predictions)\n",
    "print(\"Accuracy Score: {}\".format(score))\n",
    "print(\"False Negatives: {}\".format(fn))\n",
    "print(\"False Positives: {}\".format(fp))"
   ]
  },
  {
   "cell_type": "code",
   "execution_count": 49,
   "metadata": {},
   "outputs": [
    {
     "name": "stdout",
     "output_type": "stream",
     "text": [
      "Random Forest Classifier: [0 0 0 ... 0 0 0]\n",
      "Random Forest Classifier: 0.9623748498197837\n"
     ]
    }
   ],
   "source": [
    "#RandomForestClassifier\n",
    "model= RandomForestClassifier()\n",
    "model.fit(X_train_final, y_train)\n",
    "predicted= model.predict(X_test_final)\n",
    "print(\"Random Forest Classifier: {}\".format(predicted))\n",
    "score = model.score(X_test_final,y_test)\n",
    "print(\"Random Forest Classifier: {}\".format(score))"
   ]
  },
  {
   "cell_type": "code",
   "execution_count": null,
   "metadata": {},
   "outputs": [],
   "source": []
  },
  {
   "cell_type": "code",
   "execution_count": 50,
   "metadata": {},
   "outputs": [
    {
     "name": "stdout",
     "output_type": "stream",
     "text": [
      "[[ 8.36578235e-01  8.30560816e-01 -3.31165255e-01 -3.39130604e-01\n",
      "  -3.66136606e-02  7.12836585e-02  2.93264711e-02  9.62793186e-02\n",
      "   4.69260973e-01  4.31864653e-01  9.88743742e-02  1.46005285e-01\n",
      "   1.39599340e-01  1.43512197e-01  1.61656715e-01  1.63715041e-01\n",
      "   1.04818385e-01  1.40693038e-01  8.53152364e-02  2.11335059e-02\n",
      "   4.26372387e-02  1.34028952e-01  1.25564681e-01  1.52676163e-02\n",
      "   1.19185908e-02  7.20583940e-02  1.84536061e-02  1.14053680e-01\n",
      "   5.94265218e-02  6.36280883e-02  6.22253018e-03  2.30291358e-01]\n",
      " [-8.20024773e-01 -8.49343635e-01 -3.36127194e-01 -3.18592135e-01\n",
      "   2.69619652e-02  3.58490720e-02 -2.58735160e-02  5.49581188e-02\n",
      "   4.68353334e-01  4.28075154e-01  1.03571512e-01  1.46034633e-01\n",
      "   1.41128508e-01  1.42627324e-01  1.58071790e-01  1.62298451e-01\n",
      "   1.28145432e-01  1.21693862e-01  8.09427219e-02  2.25821601e-02\n",
      "   4.63866878e-02  1.31346236e-01  1.24215203e-01  1.28132109e-02\n",
      "   1.36925162e-02  7.60798969e-02  1.93147414e-02  1.19822007e-01\n",
      "   6.12982411e-02  6.76632127e-02  5.47567422e-03  2.18367490e-01]\n",
      " [-9.43139920e-04  1.00236849e-01  1.89856862e+00  1.87063262e+00\n",
      "   2.56876893e-02 -3.03802781e-01 -8.28576321e-03 -4.29115579e-01\n",
      "   4.73069305e-01  4.25704963e-01  1.01225732e-01  1.42724550e-01\n",
      "   1.30754289e-01  1.35739506e-01  1.60579472e-01  1.63583998e-01\n",
      "   1.28142074e-01  1.38476112e-01  1.50790841e-01  6.31620243e-02\n",
      "   5.41771522e-02  1.80376810e-01  1.17693213e-03  1.35682094e-02\n",
      "   1.70703002e-02 -9.83518822e-14  1.69650461e-02  2.04479997e-02\n",
      "   2.14967132e-01  9.91876298e-02  3.41788745e-02  1.33931049e-01]]\n",
      "Kmeans Classifier : [1 0 1 ... 1 0 1]\n"
     ]
    }
   ],
   "source": [
    "#K-means\n",
    "k_means = KMeans(n_clusters=3)\n",
    "k_means = k_means.fit(X_train_final,y_test)\n",
    "labels=k_means.predict(X_test_final)\n",
    "centroids=k_means.cluster_centers_\n",
    "print(centroids)\n",
    "print(\"Kmeans Classifier :\" , labels)\n",
    "\n"
   ]
  },
  {
   "cell_type": "code",
   "execution_count": 51,
   "metadata": {},
   "outputs": [
    {
     "data": {
      "text/plain": [
       "<mpl_toolkits.mplot3d.art3d.Path3DCollection at 0x49ebf6198>"
      ]
     },
     "execution_count": 51,
     "metadata": {},
     "output_type": "execute_result"
    },
    {
     "data": {
      "image/png": "[encoded data removed]",
      "text/plain": [
       "<Figure size 432x288 with 1 Axes>"
      ]
     },
     "metadata": {},
     "output_type": "display_data"
    }
   ],
   "source": [
    "fig=plt.figure()\n",
    "ax=Axes3D(fig)\n",
    "ax.scatter(X_test_final[:, 0], X_test_final[:, 1], X_test_final[:, 2])"
   ]
  },
  {
   "cell_type": "code",
   "execution_count": null,
   "metadata": {},
   "outputs": [],
   "source": []
  }
 ],
 "metadata": {
  "kernelspec": {
   "display_name": "Python 3",
   "language": "python",
   "name": "python3"
  },
  "language_info": {
   "codemirror_mode": {
    "name": "ipython",
    "version": 3
   },
   "file_extension": ".py",
   "mimetype": "text/x-python",
   "name": "python",
   "nbconvert_exporter": "python",
   "pygments_lexer": "ipython3",
   "version": "3.6.5"
  }
 },
 "nbformat": 4,
 "nbformat_minor": 2
}
